{
 "cells": [
  {
   "cell_type": "markdown",
   "metadata": {},
   "source": [
    "## Fasta Files - looking for repetitive elements"
   ]
  },
  {
   "cell_type": "markdown",
   "metadata": {},
   "source": [
    "### Function that reads a fastaq file:"
   ]
  },
  {
   "cell_type": "code",
   "execution_count": 33,
   "metadata": {},
   "outputs": [],
   "source": [
    "def readFastq(filename):\n",
    "    sequences = []\n",
    "    qualities = []\n",
    "    with open(filename) as fh:\n",
    "        while True:\n",
    "            fh.readline()  # skip name line\n",
    "            seq = fh.readline().rstrip()  # read base sequence\n",
    "            fh.readline()  # skip placeholder line\n",
    "            qual = fh.readline().rstrip() # base quality line\n",
    "            if len(seq) == 0:\n",
    "                break\n",
    "            sequences.append(seq)\n",
    "            qualities.append(qual)\n",
    "    return sequences, qualities"
   ]
  },
  {
   "cell_type": "code",
   "execution_count": 38,
   "metadata": {},
   "outputs": [],
   "source": [
    "virus = readFastq('/Users/demol/Downloads/lambda_virus.fa')"
   ]
  },
  {
   "cell_type": "code",
   "execution_count": 51,
   "metadata": {},
   "outputs": [],
   "source": [
    "list1 = virus[0]\n",
    "list2 = virus[1]"
   ]
  },
  {
   "cell_type": "code",
   "execution_count": 55,
   "metadata": {},
   "outputs": [],
   "source": [
    "virus12 = list1 + list2"
   ]
  },
  {
   "cell_type": "markdown",
   "metadata": {},
   "source": [
    "### Bases counter"
   ]
  },
  {
   "cell_type": "code",
   "execution_count": 59,
   "metadata": {},
   "outputs": [
    {
     "name": "stdout",
     "output_type": "stream",
     "text": [
      "Counter({'G': 6376, 'A': 6293, 'T': 5928, 'C': 5685})\n"
     ]
    }
   ],
   "source": [
    "import collections\n",
    "count = collections.Counter()\n",
    "for seq in virus12:\n",
    "    count.update(seq)\n",
    "print(count)"
   ]
  },
  {
   "cell_type": "markdown",
   "metadata": {},
   "source": [
    "### Genome read from fasta file"
   ]
  },
  {
   "cell_type": "code",
   "execution_count": 61,
   "metadata": {},
   "outputs": [],
   "source": [
    "def readGenome(filename):\n",
    "    genome = ''\n",
    "    with open(filename, 'r') as f:\n",
    "        for line in f:\n",
    "            # ignore header line with genome information\n",
    "            if not line[0] == '>':\n",
    "                genome += line.rstrip()\n",
    "    return genome"
   ]
  },
  {
   "cell_type": "code",
   "execution_count": 63,
   "metadata": {},
   "outputs": [],
   "source": [
    "vgenome = readGenome('/Users/demol/Downloads/lambda_virus.fa')"
   ]
  },
  {
   "cell_type": "code",
   "execution_count": 64,
   "metadata": {},
   "outputs": [
    {
     "name": "stdout",
     "output_type": "stream",
     "text": [
      "Counter({'G': 12820, 'A': 12334, 'T': 11986, 'C': 11362})\n"
     ]
    }
   ],
   "source": [
    "count1 = collections.Counter()\n",
    "for i in vgenome:\n",
    "    count1.update(i)\n",
    "print(count1)"
   ]
  },
  {
   "cell_type": "markdown",
   "metadata": {},
   "source": [
    "### Function to print reverse complement:"
   ]
  },
  {
   "cell_type": "code",
   "execution_count": 71,
   "metadata": {},
   "outputs": [],
   "source": [
    "def reverseComplement(s):\n",
    "    complement = {'A': 'T', 'C': 'G', 'T': 'A', 'G': 'C'}\n",
    "    t = ''\n",
    "    for base in s:\n",
    "        t = complement[base] + t\n",
    "    return t"
   ]
  },
  {
   "cell_type": "code",
   "execution_count": 72,
   "metadata": {},
   "outputs": [
    {
     "data": {
      "text/plain": [
       "'AGGTACACAT'"
      ]
     },
     "execution_count": 72,
     "metadata": {},
     "output_type": "execute_result"
    }
   ],
   "source": [
    "r = \"ATGTGTACCT\"\n",
    "reverseComplement(r)"
   ]
  },
  {
   "cell_type": "markdown",
   "metadata": {},
   "source": [
    "### Function for naive exact matching algorithm:"
   ]
  },
  {
   "cell_type": "code",
   "execution_count": 78,
   "metadata": {},
   "outputs": [],
   "source": [
    "def naive(p, t): # p = pattern, t = text\n",
    "    occurences = []\n",
    "    for i in range(len(t) - len(p) + 1):  # loop through text t\n",
    "        match = True\n",
    "        for j in range(len(p)):         # loop through the pattern p\n",
    "            if t[i+j] != p[j]:\n",
    "                match = False\n",
    "                break\n",
    "        if match:\n",
    "            print(i)\n",
    "            occurences.append(i)        # record the position where is a match\n",
    "    return(occurences)"
   ]
  },
  {
   "cell_type": "code",
   "execution_count": 86,
   "metadata": {},
   "outputs": [
    {
     "data": {
      "text/plain": [
       "[0, 8, 16]"
      ]
     },
     "execution_count": 86,
     "metadata": {},
     "output_type": "execute_result"
    }
   ],
   "source": [
    "t = \"AAATTTTGAAATGAATAAA\"\n",
    "p = 'AAA'\n",
    "naive(p, t)"
   ]
  },
  {
   "cell_type": "code",
   "execution_count": null,
   "metadata": {},
   "outputs": [],
   "source": []
  },
  {
   "cell_type": "code",
   "execution_count": 105,
   "metadata": {},
   "outputs": [],
   "source": [
    "def naive_with_rc(p, t):\n",
    "    occurrences = []\n",
    "    p_rc = reverseComplement(p)\n",
    "    for i in range(len(t) - len(p) + 1): # loop over alignments\n",
    "        match = True\n",
    "\n",
    "        for j in range(len(p)):  # loop over characters\n",
    "            if (t[i+j] != p[j]) & (t[i+j] != p_rc[j]):  # compare characters\n",
    "                match = False\n",
    "                break\n",
    "            \n",
    "        if match:\n",
    "            occurrences.append(i)# all chars matched; record\n",
    "    return occurrences"
   ]
  },
  {
   "cell_type": "code",
   "execution_count": 114,
   "metadata": {},
   "outputs": [
    {
     "data": {
      "text/plain": [
       "[10, 24]"
      ]
     },
     "execution_count": 114,
     "metadata": {},
     "output_type": "execute_result"
    }
   ],
   "source": [
    "# Example 1\n",
    "ten_as = \"AAAAAAAAAA\"\n",
    "p = 'CGCG'\n",
    "t = ten_as + \"CGCG\" + ten_as + 'CGCG' \n",
    "naive_with_rc(p, t)"
   ]
  },
  {
   "cell_type": "code",
   "execution_count": 115,
   "metadata": {},
   "outputs": [
    {
     "data": {
      "text/plain": [
       "[10, 23]"
      ]
     },
     "execution_count": 115,
     "metadata": {},
     "output_type": "execute_result"
    }
   ],
   "source": [
    "# Example 2\n",
    "p = 'CCC'\n",
    "t = ten_as + \"CCC\" + ten_as + 'GGG' + ten_as \n",
    "naive_with_rc(p, t)"
   ]
  },
  {
   "cell_type": "code",
   "execution_count": 119,
   "metadata": {},
   "outputs": [
    {
     "name": "stdout",
     "output_type": "stream",
     "text": [
      "[10, 38]\n",
      "[10, 24, 38, 52]\n"
     ]
    }
   ],
   "source": [
    "# Example 3\n",
    "p = 'AGGT'\n",
    "t = ten_as + 'AGGT' + ten_as + 'ACCT' + ten_as + 'AGGT' + ten_as + 'ACCT'\n",
    "print(naive(p, t))\n",
    "print(naive_with_rc(p, t))"
   ]
  },
  {
   "cell_type": "markdown",
   "metadata": {},
   "source": [
    "__Question 1.__\n",
    "\n",
    "How many times does __AGGT__ or its reverse complement __ACCT__ occur in the lambda virus genome? E.g. if __AGGT__ occurs 10 times and __ACCT__ occurs 12 times, you should report 22."
   ]
  },
  {
   "cell_type": "code",
   "execution_count": 124,
   "metadata": {},
   "outputs": [
    {
     "name": "stdout",
     "output_type": "stream",
     "text": [
      "592\n",
      "150\n",
      "156\n"
     ]
    }
   ],
   "source": [
    "p = 'AGGT'\n",
    "rc = 'ACCT'\n",
    "print(len(naive_with_rc(p, vgenome)))\n",
    "print(len(naive(p, vgenome)))\n",
    "print(len(naive(rc, vgenome)))   # 306"
   ]
  },
  {
   "cell_type": "markdown",
   "metadata": {},
   "source": [
    "__Question 2.__\n",
    "\n",
    "How many times does __TTAA__ or its reverse complement occur in the lambda virus genome?\n",
    "\n",
    "Hint: __TTAA__ and its reverse complement are equal, so remember not to double count."
   ]
  },
  {
   "cell_type": "code",
   "execution_count": 125,
   "metadata": {},
   "outputs": [
    {
     "name": "stdout",
     "output_type": "stream",
     "text": [
      "195\n",
      "195\n"
     ]
    }
   ],
   "source": [
    "p = 'TTAA'\n",
    "print(len(naive_with_rc(p, vgenome)))\n",
    "print(len(naive(p, vgenome)))"
   ]
  },
  {
   "cell_type": "markdown",
   "metadata": {},
   "source": [
    "__Question 3.__\n",
    "\n",
    "What is the offset of the leftmost occurrence of __ACTAAGT__ or its reverse complement in the Lambda virus genome? E.g. if the leftmost occurrence of __ACTAAGT__ is at offset 40 (0-based) and the leftmost occurrence of its reverse complement __ACTTAGT__ is at offset 29, then report 29."
   ]
  },
  {
   "cell_type": "code",
   "execution_count": 132,
   "metadata": {},
   "outputs": [
    {
     "name": "stdout",
     "output_type": "stream",
     "text": [
      "offset of leftmost occurrence: 26028\n",
      "offset of leftmost occurrence: 26028\n"
     ]
    }
   ],
   "source": [
    "p = 'ACTAAGT'\n",
    "occurrences = naive_with_rc(p, vgenome)\n",
    "p_rc = 'ACTTAGT'\n",
    "occurences_rc = naive(p_rc, vgenome)\n",
    "print('offset of leftmost occurrence: %d' % min(occurrences))\n",
    "print('offset of leftmost occurrence: %d' % min(occurrences_rc))"
   ]
  },
  {
   "cell_type": "markdown",
   "metadata": {},
   "source": [
    "__Question 4.__\n",
    "\n",
    "What is the offset of the leftmost occurrence of __AGTCGA__ or its reverse complement in the Lambda virus genome?"
   ]
  },
  {
   "cell_type": "code",
   "execution_count": 131,
   "metadata": {},
   "outputs": [
    {
     "name": "stdout",
     "output_type": "stream",
     "text": [
      "offset of leftmost occurrence: 49\n",
      "offset of leftmost occurrence: 18005\n",
      "offset of leftmost occurrence: 450\n"
     ]
    }
   ],
   "source": [
    "p = 'AGTCGA'\n",
    "r = 'TCGACT'\n",
    "occurrences = naive_with_rc(p, vgenome)\n",
    "occ_naive_p = naive(p, vgenome)\n",
    "occ_naive_r = naive(r, vgenome)\n",
    "\n",
    "print('offset of leftmost occurrence: %d' % min(occurrences)) \n",
    "print('offset of leftmost occurrence: %d' % min(occ_naive_p)) \n",
    "print('offset of leftmost occurrence: %d' % min(occ_naive_r))   # 450"
   ]
  },
  {
   "cell_type": "markdown",
   "metadata": {},
   "source": [
    "__Question 5.__\n",
    "\n",
    "Sometimes we would like to find approximate matches for P in T. That is, we want to find occurrences with one or more differences.\n",
    "\n",
    "For Questions 5 and 6, make a new version of the __naive function__ called __naive_2mm__ that allows up to 2 mismatches per occurrence. Unlike for the previous questions, do not consider the reverse complement here. We're looking for approximate matches for P itself, not its reverse complement.\n",
    "\n",
    "\n",
    "For example, __ACTTTA__ occurs twice in __ACTTACTTGATAAAGT__, once at offset 0 with 2 mismatches, and once at offset 4 with 1 mismatch. So __naive_2mm('ACTTTA', 'ACTTACTTGATAAAGT')__ should return the list __[0, 4]__.\n",
    "\n",
    "\n",
    "How many times does __TTCAAGCC__ occur in the Lambda virus genome when allowing up to 2 mismatches?"
   ]
  },
  {
   "cell_type": "code",
   "execution_count": 217,
   "metadata": {},
   "outputs": [],
   "source": [
    "def naive_2mm(p, t): # p = pattern, t = text\n",
    "    occurences = []\n",
    "    \n",
    "    for i in range(len(t) - len(p) + 1):  # loop through text t\n",
    "        match = True\n",
    "        count = 0\n",
    "        for j in range(len(p)):   # loop through the pattern p\n",
    "                if t[i+j] != p[j]:             \n",
    "                    count += 1\n",
    "                    if count > 2:\n",
    "                        match=False\n",
    "                        break\n",
    "        if match:\n",
    "            #print(i)\n",
    "            #print (t[i:(i + len(p))])\n",
    "            occurences.append(i)        # record the position where is a match\n",
    "    return(occurences)\n"
   ]
  },
  {
   "cell_type": "code",
   "execution_count": 218,
   "metadata": {},
   "outputs": [
    {
     "data": {
      "text/plain": [
       "[0, 4]"
      ]
     },
     "execution_count": 218,
     "metadata": {},
     "output_type": "execute_result"
    }
   ],
   "source": [
    "p = 'ACTTTA'\n",
    "t = 'ACTTACTTGATAAAGT'\n",
    "naive_2mm(p, t)"
   ]
  },
  {
   "cell_type": "code",
   "execution_count": 219,
   "metadata": {},
   "outputs": [
    {
     "name": "stdout",
     "output_type": "stream",
     "text": [
      "[10, 24, 38]\n"
     ]
    }
   ],
   "source": [
    "p = 'CTGT'\n",
    "ten_as = 'AAAAAAAAAA'\n",
    "t = ten_as + 'CTGT' + ten_as + 'CTTT' + ten_as + 'CGGG' + ten_as\n",
    "occurrences = naive_2mm(p, t)\n",
    "print(occurrences)"
   ]
  },
  {
   "cell_type": "code",
   "execution_count": 222,
   "metadata": {},
   "outputs": [
    {
     "name": "stdout",
     "output_type": "stream",
     "text": [
      "191\n",
      "offset of leftmost occurrence: 10\n"
     ]
    }
   ],
   "source": [
    "p = 'TTCAAGCC'\n",
    "print(len(naive_2mm(p, vgenome)))\n",
    "print('offset of leftmost occurrence: %d' % min(occurrences)) "
   ]
  },
  {
   "cell_type": "code",
   "execution_count": 224,
   "metadata": {},
   "outputs": [
    {
     "name": "stdout",
     "output_type": "stream",
     "text": [
      "215\n",
      "offset of leftmost occurrence: 10\n"
     ]
    }
   ],
   "source": [
    "y = 'AGGAGGTT'\n",
    "print(len(naive_2mm(y, vgenome)))\n",
    "print('offset of leftmost occurrence: %d' % min(occurrences)) "
   ]
  },
  {
   "cell_type": "code",
   "execution_count": null,
   "metadata": {},
   "outputs": [],
   "source": []
  }
 ],
 "metadata": {
  "kernelspec": {
   "display_name": "Python 3",
   "language": "python",
   "name": "python3"
  },
  "language_info": {
   "codemirror_mode": {
    "name": "ipython",
    "version": 3
   },
   "file_extension": ".py",
   "mimetype": "text/x-python",
   "name": "python",
   "nbconvert_exporter": "python",
   "pygments_lexer": "ipython3",
   "version": "3.7.6"
  }
 },
 "nbformat": 4,
 "nbformat_minor": 4
}
